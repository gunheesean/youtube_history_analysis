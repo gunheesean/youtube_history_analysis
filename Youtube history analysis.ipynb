{
 "cells": [
  {
   "cell_type": "markdown",
   "id": "d30789ad",
   "metadata": {},
   "source": [
    "#### Like many others, I watch YouTube videos every day. Recently, I became curious about how much time I spend watching YouTube and the types of videos I tend to watch. To find answers, I downloaded my data from Google Takeout, which includes my viewing history from February 2022 to July 2023.\n",
    "\n",
    "In this notebook, I will explore the dataset and create simple visualizations to gain insights into my YouTube usage:\n",
    "\n",
    "1. Analysis using titles of watched videos: I'll examine the titles of the videos I've watched to identify trends and topics that interest me the most.\n",
    "2. Analysis of watched time records: I'll investigate the duration of time I've spent watching videos to understand patterns in my viewing habits.\n",
    "\n",
    "By conducting this analysis, I hope to better understand how and where I allocate my time on YouTube, allowing me to make more informed decisions about my viewing habits in the future."
   ]
  },
  {
   "cell_type": "code",
   "execution_count": 1,
   "id": "2539e143",
   "metadata": {},
   "outputs": [],
   "source": [
    "import pandas as pd\n",
    "import numpy as np\n",
    "\n",
    "from wordcloud import WordCloud\n",
    "import matplotlib.pyplot as plt \n",
    "from matplotlib import rc\n",
    "rc('font', family='AppleGothic')\n",
    "font_path = '/System/Library/Fonts/Supplemental/AppleGothic.ttf'\n",
    "\n",
    "from datetime import datetime"
   ]
  },
  {
   "cell_type": "code",
   "execution_count": 2,
   "id": "635ceaa9",
   "metadata": {},
   "outputs": [],
   "source": [
    "df = pd.read_json('../Downloads/watch-history.json')"
   ]
  },
  {
   "cell_type": "code",
   "execution_count": 3,
   "id": "c2852f9e",
   "metadata": {
    "scrolled": false
   },
   "outputs": [
    {
     "data": {
      "text/html": [
       "<div>\n",
       "<style scoped>\n",
       "    .dataframe tbody tr th:only-of-type {\n",
       "        vertical-align: middle;\n",
       "    }\n",
       "\n",
       "    .dataframe tbody tr th {\n",
       "        vertical-align: top;\n",
       "    }\n",
       "\n",
       "    .dataframe thead th {\n",
       "        text-align: right;\n",
       "    }\n",
       "</style>\n",
       "<table border=\"1\" class=\"dataframe\">\n",
       "  <thead>\n",
       "    <tr style=\"text-align: right;\">\n",
       "      <th></th>\n",
       "      <th>header</th>\n",
       "      <th>title</th>\n",
       "      <th>titleUrl</th>\n",
       "      <th>subtitles</th>\n",
       "      <th>time</th>\n",
       "      <th>products</th>\n",
       "      <th>activityControls</th>\n",
       "    </tr>\n",
       "  </thead>\n",
       "  <tbody>\n",
       "    <tr>\n",
       "      <th>0</th>\n",
       "      <td>YouTube</td>\n",
       "      <td>Watched I AM Affirmations Meditation, While yo...</td>\n",
       "      <td>https://www.youtube.com/watch?v=GvAl2Q5Oj8k</td>\n",
       "      <td>[{'name': 'Jason Stephenson - Sleep Meditation...</td>\n",
       "      <td>2023-07-22T22:08:26.147Z</td>\n",
       "      <td>[YouTube]</td>\n",
       "      <td>[YouTube watch history]</td>\n",
       "    </tr>\n",
       "    <tr>\n",
       "      <th>1</th>\n",
       "      <td>YouTube</td>\n",
       "      <td>Watched 잠재의식에 긍정에너지 새겨넣기 ㅣ10분안에 꿀잠드는 수면 유도 명상ㅣ...</td>\n",
       "      <td>https://www.youtube.com/watch?v=78RpLiCIonk</td>\n",
       "      <td>[{'name': '마음빛 글', 'url': 'https://www.youtube...</td>\n",
       "      <td>2023-07-22T22:07:45.179Z</td>\n",
       "      <td>[YouTube]</td>\n",
       "      <td>[YouTube watch history]</td>\n",
       "    </tr>\n",
       "    <tr>\n",
       "      <th>2</th>\n",
       "      <td>YouTube</td>\n",
       "      <td>Watched 전 특수부대 요원을 건드리면 안 되는 이유(결말포함)</td>\n",
       "      <td>https://www.youtube.com/watch?v=vZLGh2NTeXU</td>\n",
       "      <td>[{'name': '김플릭스', 'url': 'https://www.youtube....</td>\n",
       "      <td>2023-07-22T21:49:08.474Z</td>\n",
       "      <td>[YouTube]</td>\n",
       "      <td>[YouTube watch history]</td>\n",
       "    </tr>\n",
       "    <tr>\n",
       "      <th>3</th>\n",
       "      <td>YouTube</td>\n",
       "      <td>Watched The Equalizer: Fighting a Russian Gang...</td>\n",
       "      <td>https://www.youtube.com/watch?v=wfNU6JfDN_c</td>\n",
       "      <td>[{'name': 'Scene City', 'url': 'https://www.yo...</td>\n",
       "      <td>2023-07-22T21:41:27.186Z</td>\n",
       "      <td>[YouTube]</td>\n",
       "      <td>[YouTube watch history]</td>\n",
       "    </tr>\n",
       "    <tr>\n",
       "      <th>4</th>\n",
       "      <td>YouTube</td>\n",
       "      <td>Watched [세상만사] 러시아 탱크 잡으러 가던 우크라이나군 실제 교전 장면 /...</td>\n",
       "      <td>https://www.youtube.com/watch?v=E7mz2SZ-bfE</td>\n",
       "      <td>[{'name': ' YTN', 'url': 'https://www.youtube....</td>\n",
       "      <td>2023-07-22T21:38:48.251Z</td>\n",
       "      <td>[YouTube]</td>\n",
       "      <td>[YouTube watch history]</td>\n",
       "    </tr>\n",
       "  </tbody>\n",
       "</table>\n",
       "</div>"
      ],
      "text/plain": [
       "    header                                              title  \\\n",
       "0  YouTube  Watched I AM Affirmations Meditation, While yo...   \n",
       "1  YouTube  Watched 잠재의식에 긍정에너지 새겨넣기 ㅣ10분안에 꿀잠드는 수면 유도 명상ㅣ...   \n",
       "2  YouTube              Watched 전 특수부대 요원을 건드리면 안 되는 이유(결말포함)   \n",
       "3  YouTube  Watched The Equalizer: Fighting a Russian Gang...   \n",
       "4  YouTube  Watched [세상만사] 러시아 탱크 잡으러 가던 우크라이나군 실제 교전 장면 /...   \n",
       "\n",
       "                                      titleUrl  \\\n",
       "0  https://www.youtube.com/watch?v=GvAl2Q5Oj8k   \n",
       "1  https://www.youtube.com/watch?v=78RpLiCIonk   \n",
       "2  https://www.youtube.com/watch?v=vZLGh2NTeXU   \n",
       "3  https://www.youtube.com/watch?v=wfNU6JfDN_c   \n",
       "4  https://www.youtube.com/watch?v=E7mz2SZ-bfE   \n",
       "\n",
       "                                           subtitles  \\\n",
       "0  [{'name': 'Jason Stephenson - Sleep Meditation...   \n",
       "1  [{'name': '마음빛 글', 'url': 'https://www.youtube...   \n",
       "2  [{'name': '김플릭스', 'url': 'https://www.youtube....   \n",
       "3  [{'name': 'Scene City', 'url': 'https://www.yo...   \n",
       "4  [{'name': ' YTN', 'url': 'https://www.youtube....   \n",
       "\n",
       "                       time   products         activityControls  \n",
       "0  2023-07-22T22:08:26.147Z  [YouTube]  [YouTube watch history]  \n",
       "1  2023-07-22T22:07:45.179Z  [YouTube]  [YouTube watch history]  \n",
       "2  2023-07-22T21:49:08.474Z  [YouTube]  [YouTube watch history]  \n",
       "3  2023-07-22T21:41:27.186Z  [YouTube]  [YouTube watch history]  \n",
       "4  2023-07-22T21:38:48.251Z  [YouTube]  [YouTube watch history]  "
      ]
     },
     "execution_count": 3,
     "metadata": {},
     "output_type": "execute_result"
    }
   ],
   "source": [
    "df.head()"
   ]
  },
  {
   "cell_type": "code",
   "execution_count": 4,
   "id": "bb14613e",
   "metadata": {},
   "outputs": [
    {
     "name": "stdout",
     "output_type": "stream",
     "text": [
      "<class 'pandas.core.frame.DataFrame'>\n",
      "RangeIndex: 42900 entries, 0 to 42899\n",
      "Data columns (total 7 columns):\n",
      " #   Column            Non-Null Count  Dtype \n",
      "---  ------            --------------  ----- \n",
      " 0   header            42900 non-null  object\n",
      " 1   title             42900 non-null  object\n",
      " 2   titleUrl          42476 non-null  object\n",
      " 3   subtitles         39960 non-null  object\n",
      " 4   time              42900 non-null  object\n",
      " 5   products          42900 non-null  object\n",
      " 6   activityControls  42900 non-null  object\n",
      "dtypes: object(7)\n",
      "memory usage: 2.3+ MB\n"
     ]
    }
   ],
   "source": [
    "df.info()"
   ]
  },
  {
   "cell_type": "markdown",
   "id": "2f2492c7",
   "metadata": {},
   "source": [
    "## Check null values"
   ]
  },
  {
   "cell_type": "code",
   "execution_count": 5,
   "id": "4cc8b2a3",
   "metadata": {},
   "outputs": [
    {
     "data": {
      "text/plain": [
       "header                 0\n",
       "title                  0\n",
       "titleUrl             424\n",
       "subtitles           2940\n",
       "time                   0\n",
       "products               0\n",
       "activityControls       0\n",
       "dtype: int64"
      ]
     },
     "execution_count": 5,
     "metadata": {},
     "output_type": "execute_result"
    }
   ],
   "source": [
    "df.isnull().sum()"
   ]
  },
  {
   "cell_type": "code",
   "execution_count": 6,
   "id": "5e42269d",
   "metadata": {},
   "outputs": [
    {
     "data": {
      "text/html": [
       "<div>\n",
       "<style scoped>\n",
       "    .dataframe tbody tr th:only-of-type {\n",
       "        vertical-align: middle;\n",
       "    }\n",
       "\n",
       "    .dataframe tbody tr th {\n",
       "        vertical-align: top;\n",
       "    }\n",
       "\n",
       "    .dataframe thead th {\n",
       "        text-align: right;\n",
       "    }\n",
       "</style>\n",
       "<table border=\"1\" class=\"dataframe\">\n",
       "  <thead>\n",
       "    <tr style=\"text-align: right;\">\n",
       "      <th></th>\n",
       "      <th>header</th>\n",
       "      <th>title</th>\n",
       "      <th>titleUrl</th>\n",
       "      <th>subtitles</th>\n",
       "      <th>time</th>\n",
       "      <th>products</th>\n",
       "      <th>activityControls</th>\n",
       "    </tr>\n",
       "  </thead>\n",
       "  <tbody>\n",
       "    <tr>\n",
       "      <th>149</th>\n",
       "      <td>YouTube</td>\n",
       "      <td>Watched https://www.youtube.com/watch?v=uED7KW...</td>\n",
       "      <td>https://www.youtube.com/watch?v=uED7KWtDs_0</td>\n",
       "      <td>NaN</td>\n",
       "      <td>2023-07-21T17:04:05.846Z</td>\n",
       "      <td>[YouTube]</td>\n",
       "      <td>[YouTube watch history]</td>\n",
       "    </tr>\n",
       "    <tr>\n",
       "      <th>150</th>\n",
       "      <td>YouTube</td>\n",
       "      <td>Watched https://www.youtube.com/watch?v=7Y4h9z...</td>\n",
       "      <td>https://www.youtube.com/watch?v=7Y4h9zbGA5U</td>\n",
       "      <td>NaN</td>\n",
       "      <td>2023-07-21T17:03:42.672Z</td>\n",
       "      <td>[YouTube]</td>\n",
       "      <td>[YouTube watch history]</td>\n",
       "    </tr>\n",
       "    <tr>\n",
       "      <th>153</th>\n",
       "      <td>YouTube</td>\n",
       "      <td>Watched https://www.youtube.com/watch?v=qmXPSc...</td>\n",
       "      <td>https://www.youtube.com/watch?v=qmXPScoUW-A</td>\n",
       "      <td>NaN</td>\n",
       "      <td>2023-07-21T16:38:18.834Z</td>\n",
       "      <td>[YouTube]</td>\n",
       "      <td>[YouTube watch history]</td>\n",
       "    </tr>\n",
       "    <tr>\n",
       "      <th>162</th>\n",
       "      <td>YouTube</td>\n",
       "      <td>Watched https://www.youtube.com/watch?v=N89FCE...</td>\n",
       "      <td>https://www.youtube.com/watch?v=N89FCEe55fk</td>\n",
       "      <td>NaN</td>\n",
       "      <td>2023-07-21T14:32:38.282Z</td>\n",
       "      <td>[YouTube]</td>\n",
       "      <td>[YouTube watch history]</td>\n",
       "    </tr>\n",
       "    <tr>\n",
       "      <th>165</th>\n",
       "      <td>YouTube</td>\n",
       "      <td>Watched https://www.youtube.com/watch?v=qmXPSc...</td>\n",
       "      <td>https://www.youtube.com/watch?v=qmXPScoUW-A</td>\n",
       "      <td>NaN</td>\n",
       "      <td>2023-07-21T14:28:29.332Z</td>\n",
       "      <td>[YouTube]</td>\n",
       "      <td>[YouTube watch history]</td>\n",
       "    </tr>\n",
       "    <tr>\n",
       "      <th>...</th>\n",
       "      <td>...</td>\n",
       "      <td>...</td>\n",
       "      <td>...</td>\n",
       "      <td>...</td>\n",
       "      <td>...</td>\n",
       "      <td>...</td>\n",
       "      <td>...</td>\n",
       "    </tr>\n",
       "    <tr>\n",
       "      <th>42815</th>\n",
       "      <td>YouTube</td>\n",
       "      <td>Watched https://www.youtube.com/watch?v=nYL9ny...</td>\n",
       "      <td>https://www.youtube.com/watch?v=nYL9ny_3PVs</td>\n",
       "      <td>NaN</td>\n",
       "      <td>2022-02-02T02:16:28.532Z</td>\n",
       "      <td>[YouTube]</td>\n",
       "      <td>[YouTube watch history]</td>\n",
       "    </tr>\n",
       "    <tr>\n",
       "      <th>42821</th>\n",
       "      <td>YouTube</td>\n",
       "      <td>Watched https://www.youtube.com/watch?v=JPGuel...</td>\n",
       "      <td>https://www.youtube.com/watch?v=JPGuel14PvY</td>\n",
       "      <td>NaN</td>\n",
       "      <td>2022-02-02T02:11:01.326Z</td>\n",
       "      <td>[YouTube]</td>\n",
       "      <td>[YouTube watch history]</td>\n",
       "    </tr>\n",
       "    <tr>\n",
       "      <th>42826</th>\n",
       "      <td>YouTube</td>\n",
       "      <td>Watched https://www.youtube.com/watch?v=k1aUH2...</td>\n",
       "      <td>https://www.youtube.com/watch?v=k1aUH2ajEiU</td>\n",
       "      <td>NaN</td>\n",
       "      <td>2022-02-02T02:07:25.951Z</td>\n",
       "      <td>[YouTube]</td>\n",
       "      <td>[YouTube watch history]</td>\n",
       "    </tr>\n",
       "    <tr>\n",
       "      <th>42828</th>\n",
       "      <td>YouTube</td>\n",
       "      <td>Watched https://www.youtube.com/watch?v=2sztsz...</td>\n",
       "      <td>https://www.youtube.com/watch?v=2sztszKrGAo</td>\n",
       "      <td>NaN</td>\n",
       "      <td>2022-02-02T02:05:47.507Z</td>\n",
       "      <td>[YouTube]</td>\n",
       "      <td>[YouTube watch history]</td>\n",
       "    </tr>\n",
       "    <tr>\n",
       "      <th>42832</th>\n",
       "      <td>YouTube</td>\n",
       "      <td>Watched https://www.youtube.com/watch?v=rcvItC...</td>\n",
       "      <td>https://www.youtube.com/watch?v=rcvItCa63J8</td>\n",
       "      <td>NaN</td>\n",
       "      <td>2022-02-02T02:03:44.368Z</td>\n",
       "      <td>[YouTube]</td>\n",
       "      <td>[YouTube watch history]</td>\n",
       "    </tr>\n",
       "  </tbody>\n",
       "</table>\n",
       "<p>2947 rows × 7 columns</p>\n",
       "</div>"
      ],
      "text/plain": [
       "        header                                              title  \\\n",
       "149    YouTube  Watched https://www.youtube.com/watch?v=uED7KW...   \n",
       "150    YouTube  Watched https://www.youtube.com/watch?v=7Y4h9z...   \n",
       "153    YouTube  Watched https://www.youtube.com/watch?v=qmXPSc...   \n",
       "162    YouTube  Watched https://www.youtube.com/watch?v=N89FCE...   \n",
       "165    YouTube  Watched https://www.youtube.com/watch?v=qmXPSc...   \n",
       "...        ...                                                ...   \n",
       "42815  YouTube  Watched https://www.youtube.com/watch?v=nYL9ny...   \n",
       "42821  YouTube  Watched https://www.youtube.com/watch?v=JPGuel...   \n",
       "42826  YouTube  Watched https://www.youtube.com/watch?v=k1aUH2...   \n",
       "42828  YouTube  Watched https://www.youtube.com/watch?v=2sztsz...   \n",
       "42832  YouTube  Watched https://www.youtube.com/watch?v=rcvItC...   \n",
       "\n",
       "                                          titleUrl subtitles  \\\n",
       "149    https://www.youtube.com/watch?v=uED7KWtDs_0       NaN   \n",
       "150    https://www.youtube.com/watch?v=7Y4h9zbGA5U       NaN   \n",
       "153    https://www.youtube.com/watch?v=qmXPScoUW-A       NaN   \n",
       "162    https://www.youtube.com/watch?v=N89FCEe55fk       NaN   \n",
       "165    https://www.youtube.com/watch?v=qmXPScoUW-A       NaN   \n",
       "...                                            ...       ...   \n",
       "42815  https://www.youtube.com/watch?v=nYL9ny_3PVs       NaN   \n",
       "42821  https://www.youtube.com/watch?v=JPGuel14PvY       NaN   \n",
       "42826  https://www.youtube.com/watch?v=k1aUH2ajEiU       NaN   \n",
       "42828  https://www.youtube.com/watch?v=2sztszKrGAo       NaN   \n",
       "42832  https://www.youtube.com/watch?v=rcvItCa63J8       NaN   \n",
       "\n",
       "                           time   products         activityControls  \n",
       "149    2023-07-21T17:04:05.846Z  [YouTube]  [YouTube watch history]  \n",
       "150    2023-07-21T17:03:42.672Z  [YouTube]  [YouTube watch history]  \n",
       "153    2023-07-21T16:38:18.834Z  [YouTube]  [YouTube watch history]  \n",
       "162    2023-07-21T14:32:38.282Z  [YouTube]  [YouTube watch history]  \n",
       "165    2023-07-21T14:28:29.332Z  [YouTube]  [YouTube watch history]  \n",
       "...                         ...        ...                      ...  \n",
       "42815  2022-02-02T02:16:28.532Z  [YouTube]  [YouTube watch history]  \n",
       "42821  2022-02-02T02:11:01.326Z  [YouTube]  [YouTube watch history]  \n",
       "42826  2022-02-02T02:07:25.951Z  [YouTube]  [YouTube watch history]  \n",
       "42828  2022-02-02T02:05:47.507Z  [YouTube]  [YouTube watch history]  \n",
       "42832  2022-02-02T02:03:44.368Z  [YouTube]  [YouTube watch history]  \n",
       "\n",
       "[2947 rows x 7 columns]"
      ]
     },
     "execution_count": 6,
     "metadata": {},
     "output_type": "execute_result"
    }
   ],
   "source": [
    "df[df.isnull().any(axis=1)]"
   ]
  },
  {
   "cell_type": "markdown",
   "id": "2bec4c24",
   "metadata": {},
   "source": [
    "# 1. Analyzing title of videos"
   ]
  },
  {
   "cell_type": "markdown",
   "id": "3d2c7616",
   "metadata": {},
   "source": [
    "#### In the title column, the word 'Watched' is repeating, and it's unnecessary since we are already looking at watched history data. So, let's remove the word 'Watched' and store the rest of the title in the title column."
   ]
  },
  {
   "cell_type": "code",
   "execution_count": 7,
   "id": "2093227f",
   "metadata": {
    "scrolled": true
   },
   "outputs": [
    {
     "data": {
      "text/plain": [
       "42890              Watched 우주마켓 뉴발란스 992 D STANDARD 언박싱 영상\n",
       "42891                  Watched 대박 난다는 '랜덤박스' 재고품만 잔뜩 / YTN\n",
       "42892          Watched 60번 읽고 뽑은 시크릿 핵심 내용 | 시크릿 (론다 번 지음)\n",
       "42893            Watched 아침을 시작하는 명상 | 원하는 것을 얻는 에너지 정화\n",
       "42894       Watched 억만장자들이 행동력을 *3배* 높이는 방법 | 제임스 클리어 동기부여\n",
       "42895                     Watched 전설적인 수도승의 과학적인 데일리 루틴...\n",
       "42896                      Watched 거울 앞에 손만 올렸는데 인생이 변한다고?\n",
       "42897                             Watched 헤어지는 커플의 마지막 데이트\n",
       "42898                       Watched (SUB) 🔥다시한번 남자친구🔞유혹하기🔥\n",
       "42899    Watched [VLOG] 남자친구의 깜짝선물 #47 | 트랜스젠더 브이로그 tra...\n",
       "Name: title, dtype: object"
      ]
     },
     "execution_count": 7,
     "metadata": {},
     "output_type": "execute_result"
    }
   ],
   "source": [
    "df['title'].tail(10)"
   ]
  },
  {
   "cell_type": "code",
   "execution_count": 8,
   "id": "a0897978",
   "metadata": {},
   "outputs": [
    {
     "data": {
      "text/plain": [
       "42890                      우주마켓 뉴발란스 992 D STANDARD 언박싱 영상\n",
       "42891                          대박 난다는 '랜덤박스' 재고품만 잔뜩 / YTN\n",
       "42892                  60번 읽고 뽑은 시크릿 핵심 내용 | 시크릿 (론다 번 지음)\n",
       "42893                    아침을 시작하는 명상 | 원하는 것을 얻는 에너지 정화\n",
       "42894               억만장자들이 행동력을 *3배* 높이는 방법 | 제임스 클리어 동기부여\n",
       "42895                             전설적인 수도승의 과학적인 데일리 루틴...\n",
       "42896                              거울 앞에 손만 올렸는데 인생이 변한다고?\n",
       "42897                                     헤어지는 커플의 마지막 데이트\n",
       "42898                               (SUB) 🔥다시한번 남자친구🔞유혹하기🔥\n",
       "42899    [VLOG] 남자친구의 깜짝선물 #47 | 트랜스젠더 브이로그 transgender...\n",
       "Name: title, dtype: object"
      ]
     },
     "execution_count": 8,
     "metadata": {},
     "output_type": "execute_result"
    }
   ],
   "source": [
    "df['title'] = df['title'].apply(lambda x: x.split(' ', maxsplit=1)[1])\n",
    "df['title'].tail(10)"
   ]
  },
  {
   "cell_type": "code",
   "execution_count": null,
   "id": "fe3fb0de",
   "metadata": {},
   "outputs": [],
   "source": [
    "# Step 1: Combine rows into a single string\n",
    "combined_text = ' '.join(df['title'])\n",
    "\n",
    "# Step 2: Generate the word cloud\n",
    "wordcloud = WordCloud(width=800, height=400, background_color='white', font_path=font_path).generate(combined_text)\n",
    "\n",
    "# Step 3: Display the word cloud\n",
    "plt.figure(figsize=(10, 5))\n",
    "plt.imshow(wordcloud, interpolation='bilinear')\n",
    "plt.axis('off')\n",
    "plt.show()"
   ]
  },
  {
   "cell_type": "markdown",
   "id": "21c32274",
   "metadata": {},
   "source": [
    "#### Let's identify and remove some useless words from the word cloud, such as 'youtube', 'short', 'https', and 'watch'."
   ]
  },
  {
   "cell_type": "code",
   "execution_count": 10,
   "id": "e39c7cab",
   "metadata": {},
   "outputs": [
    {
     "data": {
      "text/html": [
       "<div>\n",
       "<style scoped>\n",
       "    .dataframe tbody tr th:only-of-type {\n",
       "        vertical-align: middle;\n",
       "    }\n",
       "\n",
       "    .dataframe tbody tr th {\n",
       "        vertical-align: top;\n",
       "    }\n",
       "\n",
       "    .dataframe thead th {\n",
       "        text-align: right;\n",
       "    }\n",
       "</style>\n",
       "<table border=\"1\" class=\"dataframe\">\n",
       "  <thead>\n",
       "    <tr style=\"text-align: right;\">\n",
       "      <th></th>\n",
       "      <th>header</th>\n",
       "      <th>title</th>\n",
       "      <th>titleUrl</th>\n",
       "      <th>subtitles</th>\n",
       "      <th>time</th>\n",
       "      <th>products</th>\n",
       "      <th>activityControls</th>\n",
       "    </tr>\n",
       "  </thead>\n",
       "  <tbody>\n",
       "    <tr>\n",
       "      <th>149</th>\n",
       "      <td>YouTube</td>\n",
       "      <td>https://www.youtube.com/watch?v=uED7KWtDs_0</td>\n",
       "      <td>https://www.youtube.com/watch?v=uED7KWtDs_0</td>\n",
       "      <td>NaN</td>\n",
       "      <td>2023-07-21T17:04:05.846Z</td>\n",
       "      <td>[YouTube]</td>\n",
       "      <td>[YouTube watch history]</td>\n",
       "    </tr>\n",
       "    <tr>\n",
       "      <th>150</th>\n",
       "      <td>YouTube</td>\n",
       "      <td>https://www.youtube.com/watch?v=7Y4h9zbGA5U</td>\n",
       "      <td>https://www.youtube.com/watch?v=7Y4h9zbGA5U</td>\n",
       "      <td>NaN</td>\n",
       "      <td>2023-07-21T17:03:42.672Z</td>\n",
       "      <td>[YouTube]</td>\n",
       "      <td>[YouTube watch history]</td>\n",
       "    </tr>\n",
       "    <tr>\n",
       "      <th>153</th>\n",
       "      <td>YouTube</td>\n",
       "      <td>https://www.youtube.com/watch?v=qmXPScoUW-A</td>\n",
       "      <td>https://www.youtube.com/watch?v=qmXPScoUW-A</td>\n",
       "      <td>NaN</td>\n",
       "      <td>2023-07-21T16:38:18.834Z</td>\n",
       "      <td>[YouTube]</td>\n",
       "      <td>[YouTube watch history]</td>\n",
       "    </tr>\n",
       "    <tr>\n",
       "      <th>162</th>\n",
       "      <td>YouTube</td>\n",
       "      <td>https://www.youtube.com/watch?v=N89FCEe55fk</td>\n",
       "      <td>https://www.youtube.com/watch?v=N89FCEe55fk</td>\n",
       "      <td>NaN</td>\n",
       "      <td>2023-07-21T14:32:38.282Z</td>\n",
       "      <td>[YouTube]</td>\n",
       "      <td>[YouTube watch history]</td>\n",
       "    </tr>\n",
       "    <tr>\n",
       "      <th>165</th>\n",
       "      <td>YouTube</td>\n",
       "      <td>https://www.youtube.com/watch?v=qmXPScoUW-A</td>\n",
       "      <td>https://www.youtube.com/watch?v=qmXPScoUW-A</td>\n",
       "      <td>NaN</td>\n",
       "      <td>2023-07-21T14:28:29.332Z</td>\n",
       "      <td>[YouTube]</td>\n",
       "      <td>[YouTube watch history]</td>\n",
       "    </tr>\n",
       "    <tr>\n",
       "      <th>...</th>\n",
       "      <td>...</td>\n",
       "      <td>...</td>\n",
       "      <td>...</td>\n",
       "      <td>...</td>\n",
       "      <td>...</td>\n",
       "      <td>...</td>\n",
       "      <td>...</td>\n",
       "    </tr>\n",
       "    <tr>\n",
       "      <th>42815</th>\n",
       "      <td>YouTube</td>\n",
       "      <td>https://www.youtube.com/watch?v=nYL9ny_3PVs</td>\n",
       "      <td>https://www.youtube.com/watch?v=nYL9ny_3PVs</td>\n",
       "      <td>NaN</td>\n",
       "      <td>2022-02-02T02:16:28.532Z</td>\n",
       "      <td>[YouTube]</td>\n",
       "      <td>[YouTube watch history]</td>\n",
       "    </tr>\n",
       "    <tr>\n",
       "      <th>42821</th>\n",
       "      <td>YouTube</td>\n",
       "      <td>https://www.youtube.com/watch?v=JPGuel14PvY</td>\n",
       "      <td>https://www.youtube.com/watch?v=JPGuel14PvY</td>\n",
       "      <td>NaN</td>\n",
       "      <td>2022-02-02T02:11:01.326Z</td>\n",
       "      <td>[YouTube]</td>\n",
       "      <td>[YouTube watch history]</td>\n",
       "    </tr>\n",
       "    <tr>\n",
       "      <th>42826</th>\n",
       "      <td>YouTube</td>\n",
       "      <td>https://www.youtube.com/watch?v=k1aUH2ajEiU</td>\n",
       "      <td>https://www.youtube.com/watch?v=k1aUH2ajEiU</td>\n",
       "      <td>NaN</td>\n",
       "      <td>2022-02-02T02:07:25.951Z</td>\n",
       "      <td>[YouTube]</td>\n",
       "      <td>[YouTube watch history]</td>\n",
       "    </tr>\n",
       "    <tr>\n",
       "      <th>42828</th>\n",
       "      <td>YouTube</td>\n",
       "      <td>https://www.youtube.com/watch?v=2sztszKrGAo</td>\n",
       "      <td>https://www.youtube.com/watch?v=2sztszKrGAo</td>\n",
       "      <td>NaN</td>\n",
       "      <td>2022-02-02T02:05:47.507Z</td>\n",
       "      <td>[YouTube]</td>\n",
       "      <td>[YouTube watch history]</td>\n",
       "    </tr>\n",
       "    <tr>\n",
       "      <th>42832</th>\n",
       "      <td>YouTube</td>\n",
       "      <td>https://www.youtube.com/watch?v=rcvItCa63J8</td>\n",
       "      <td>https://www.youtube.com/watch?v=rcvItCa63J8</td>\n",
       "      <td>NaN</td>\n",
       "      <td>2022-02-02T02:03:44.368Z</td>\n",
       "      <td>[YouTube]</td>\n",
       "      <td>[YouTube watch history]</td>\n",
       "    </tr>\n",
       "  </tbody>\n",
       "</table>\n",
       "<p>2561 rows × 7 columns</p>\n",
       "</div>"
      ],
      "text/plain": [
       "        header                                        title  \\\n",
       "149    YouTube  https://www.youtube.com/watch?v=uED7KWtDs_0   \n",
       "150    YouTube  https://www.youtube.com/watch?v=7Y4h9zbGA5U   \n",
       "153    YouTube  https://www.youtube.com/watch?v=qmXPScoUW-A   \n",
       "162    YouTube  https://www.youtube.com/watch?v=N89FCEe55fk   \n",
       "165    YouTube  https://www.youtube.com/watch?v=qmXPScoUW-A   \n",
       "...        ...                                          ...   \n",
       "42815  YouTube  https://www.youtube.com/watch?v=nYL9ny_3PVs   \n",
       "42821  YouTube  https://www.youtube.com/watch?v=JPGuel14PvY   \n",
       "42826  YouTube  https://www.youtube.com/watch?v=k1aUH2ajEiU   \n",
       "42828  YouTube  https://www.youtube.com/watch?v=2sztszKrGAo   \n",
       "42832  YouTube  https://www.youtube.com/watch?v=rcvItCa63J8   \n",
       "\n",
       "                                          titleUrl subtitles  \\\n",
       "149    https://www.youtube.com/watch?v=uED7KWtDs_0       NaN   \n",
       "150    https://www.youtube.com/watch?v=7Y4h9zbGA5U       NaN   \n",
       "153    https://www.youtube.com/watch?v=qmXPScoUW-A       NaN   \n",
       "162    https://www.youtube.com/watch?v=N89FCEe55fk       NaN   \n",
       "165    https://www.youtube.com/watch?v=qmXPScoUW-A       NaN   \n",
       "...                                            ...       ...   \n",
       "42815  https://www.youtube.com/watch?v=nYL9ny_3PVs       NaN   \n",
       "42821  https://www.youtube.com/watch?v=JPGuel14PvY       NaN   \n",
       "42826  https://www.youtube.com/watch?v=k1aUH2ajEiU       NaN   \n",
       "42828  https://www.youtube.com/watch?v=2sztszKrGAo       NaN   \n",
       "42832  https://www.youtube.com/watch?v=rcvItCa63J8       NaN   \n",
       "\n",
       "                           time   products         activityControls  \n",
       "149    2023-07-21T17:04:05.846Z  [YouTube]  [YouTube watch history]  \n",
       "150    2023-07-21T17:03:42.672Z  [YouTube]  [YouTube watch history]  \n",
       "153    2023-07-21T16:38:18.834Z  [YouTube]  [YouTube watch history]  \n",
       "162    2023-07-21T14:32:38.282Z  [YouTube]  [YouTube watch history]  \n",
       "165    2023-07-21T14:28:29.332Z  [YouTube]  [YouTube watch history]  \n",
       "...                         ...        ...                      ...  \n",
       "42815  2022-02-02T02:16:28.532Z  [YouTube]  [YouTube watch history]  \n",
       "42821  2022-02-02T02:11:01.326Z  [YouTube]  [YouTube watch history]  \n",
       "42826  2022-02-02T02:07:25.951Z  [YouTube]  [YouTube watch history]  \n",
       "42828  2022-02-02T02:05:47.507Z  [YouTube]  [YouTube watch history]  \n",
       "42832  2022-02-02T02:03:44.368Z  [YouTube]  [YouTube watch history]  \n",
       "\n",
       "[2561 rows x 7 columns]"
      ]
     },
     "execution_count": 10,
     "metadata": {},
     "output_type": "execute_result"
    }
   ],
   "source": [
    "#df[df['title'].str.contains('youtube')]\n",
    "#df[df['title'].str.contains('short')]\n",
    "#df[df['title'].str.contains('https')]\n",
    "df[df['title'].str.contains('watch')]"
   ]
  },
  {
   "cell_type": "markdown",
   "id": "ba6e5de3",
   "metadata": {},
   "source": [
    "#### Words to be considered for removal:\n",
    "- 'video': While it might seem meaningless as a standalone word, it is essential for context, and removing it could result in losing valuable data. It should not be removed.\n",
    "\n",
    "- 'short': Considering the context provided, it is valuable data to analyze the proportion of short-format videos watched. Since not all short videos may have 'short' or '#short' tags in their titles, it is better not to remove it.\n",
    "\n",
    "- 'removed': This word likely indicates videos that were removed. Retaining this data can help analyze the number of videos that were deleted from YouTube, which could be valuable for certain insights.\n",
    "\n",
    "- 'https': As mentioned, this word may indicate removed videos. Keeping it can be useful to determine the number of videos that were deleted from YouTube."
   ]
  },
  {
   "cell_type": "code",
   "execution_count": null,
   "id": "c9d7ab7d",
   "metadata": {},
   "outputs": [],
   "source": [
    "#https in title means deleted videos, no information about this video.\n",
    "#exclude data that has 'https' or 'removed' in title column.\n",
    "df = df[~(df['title'].str.contains('https') | df['title'].str.contains('removed'))]\n",
    "\n",
    "\n",
    "combined_text = ' '.join(df['title'])\n",
    "\n",
    "wordcloud = WordCloud(width=800, height=400, background_color='white', font_path=font_path).generate(combined_text)\n",
    "\n",
    "plt.figure(figsize=(10, 5))\n",
    "plt.imshow(wordcloud, interpolation='bilinear')\n",
    "plt.axis('off')\n",
    "plt.show()"
   ]
  },
  {
   "cell_type": "markdown",
   "id": "cf800b2b",
   "metadata": {},
   "source": [
    "#### still 'short' is the most frequent video in the graph"
   ]
  },
  {
   "cell_type": "code",
   "execution_count": 14,
   "id": "d38c3016",
   "metadata": {},
   "outputs": [
    {
     "data": {
      "text/html": [
       "<div>\n",
       "<style scoped>\n",
       "    .dataframe tbody tr th:only-of-type {\n",
       "        vertical-align: middle;\n",
       "    }\n",
       "\n",
       "    .dataframe tbody tr th {\n",
       "        vertical-align: top;\n",
       "    }\n",
       "\n",
       "    .dataframe thead th {\n",
       "        text-align: right;\n",
       "    }\n",
       "</style>\n",
       "<table border=\"1\" class=\"dataframe\">\n",
       "  <thead>\n",
       "    <tr style=\"text-align: right;\">\n",
       "      <th></th>\n",
       "      <th>header</th>\n",
       "      <th>title</th>\n",
       "      <th>titleUrl</th>\n",
       "      <th>subtitles</th>\n",
       "      <th>time</th>\n",
       "      <th>products</th>\n",
       "      <th>activityControls</th>\n",
       "    </tr>\n",
       "  </thead>\n",
       "  <tbody>\n",
       "    <tr>\n",
       "      <th>14</th>\n",
       "      <td>YouTube</td>\n",
       "      <td>해결할 필요 없어요 #shorts</td>\n",
       "      <td>https://www.youtube.com/watch?v=o2cv208dYnk</td>\n",
       "      <td>[{'name': 'TV홍카콜라', 'url': 'https://www.youtub...</td>\n",
       "      <td>2023-07-22T19:38:19.726Z</td>\n",
       "      <td>[YouTube]</td>\n",
       "      <td>[YouTube watch history]</td>\n",
       "    </tr>\n",
       "    <tr>\n",
       "      <th>17</th>\n",
       "      <td>YouTube</td>\n",
       "      <td>Elon Musk Being Wholesome #shorts</td>\n",
       "      <td>https://www.youtube.com/watch?v=K4Ea5XLed-U</td>\n",
       "      <td>[{'name': 'DaddyElon', 'url': 'https://www.you...</td>\n",
       "      <td>2023-07-22T19:38:04.161Z</td>\n",
       "      <td>[YouTube]</td>\n",
       "      <td>[YouTube watch history]</td>\n",
       "    </tr>\n",
       "    <tr>\n",
       "      <th>95</th>\n",
       "      <td>YouTube</td>\n",
       "      <td>오토바이를 타고 가다 겪은 봉변  #shorts</td>\n",
       "      <td>https://www.youtube.com/watch?v=7oDRh2xGosM</td>\n",
       "      <td>[{'name': '루블리_ ' HI Ruvly '', 'url': 'https:/...</td>\n",
       "      <td>2023-07-22T03:59:48.576Z</td>\n",
       "      <td>[YouTube]</td>\n",
       "      <td>[YouTube watch history]</td>\n",
       "    </tr>\n",
       "    <tr>\n",
       "      <th>106</th>\n",
       "      <td>YouTube</td>\n",
       "      <td>한 푼이라도 더 벌어야죠ㅣ기적의 형제 #shorts</td>\n",
       "      <td>https://www.youtube.com/watch?v=iqgaoMVHODE</td>\n",
       "      <td>[{'name': '웃웃티비 #드라마 #SHORTS', 'url': 'https:/...</td>\n",
       "      <td>2023-07-22T03:53:11.858Z</td>\n",
       "      <td>[YouTube]</td>\n",
       "      <td>[YouTube watch history]</td>\n",
       "    </tr>\n",
       "    <tr>\n",
       "      <th>107</th>\n",
       "      <td>YouTube</td>\n",
       "      <td>인맥의 중요성을 제대로 보여주는 예시 #shorts</td>\n",
       "      <td>https://www.youtube.com/watch?v=-UK5qEDlCQM</td>\n",
       "      <td>[{'name': '플리즈 plz', 'url': 'https://www.youtu...</td>\n",
       "      <td>2023-07-22T03:52:01.235Z</td>\n",
       "      <td>[YouTube]</td>\n",
       "      <td>[YouTube watch history]</td>\n",
       "    </tr>\n",
       "  </tbody>\n",
       "</table>\n",
       "</div>"
      ],
      "text/plain": [
       "      header                              title  \\\n",
       "14   YouTube                 해결할 필요 없어요 #shorts   \n",
       "17   YouTube  Elon Musk Being Wholesome #shorts   \n",
       "95   YouTube         오토바이를 타고 가다 겪은 봉변  #shorts   \n",
       "106  YouTube       한 푼이라도 더 벌어야죠ㅣ기적의 형제 #shorts   \n",
       "107  YouTube       인맥의 중요성을 제대로 보여주는 예시 #shorts   \n",
       "\n",
       "                                        titleUrl  \\\n",
       "14   https://www.youtube.com/watch?v=o2cv208dYnk   \n",
       "17   https://www.youtube.com/watch?v=K4Ea5XLed-U   \n",
       "95   https://www.youtube.com/watch?v=7oDRh2xGosM   \n",
       "106  https://www.youtube.com/watch?v=iqgaoMVHODE   \n",
       "107  https://www.youtube.com/watch?v=-UK5qEDlCQM   \n",
       "\n",
       "                                             subtitles  \\\n",
       "14   [{'name': 'TV홍카콜라', 'url': 'https://www.youtub...   \n",
       "17   [{'name': 'DaddyElon', 'url': 'https://www.you...   \n",
       "95   [{'name': '루블리_ ' HI Ruvly '', 'url': 'https:/...   \n",
       "106  [{'name': '웃웃티비 #드라마 #SHORTS', 'url': 'https:/...   \n",
       "107  [{'name': '플리즈 plz', 'url': 'https://www.youtu...   \n",
       "\n",
       "                         time   products         activityControls  \n",
       "14   2023-07-22T19:38:19.726Z  [YouTube]  [YouTube watch history]  \n",
       "17   2023-07-22T19:38:04.161Z  [YouTube]  [YouTube watch history]  \n",
       "95   2023-07-22T03:59:48.576Z  [YouTube]  [YouTube watch history]  \n",
       "106  2023-07-22T03:53:11.858Z  [YouTube]  [YouTube watch history]  \n",
       "107  2023-07-22T03:52:01.235Z  [YouTube]  [YouTube watch history]  "
      ]
     },
     "execution_count": 14,
     "metadata": {},
     "output_type": "execute_result"
    }
   ],
   "source": [
    "df[df['title'].str.contains('short')].head(5)"
   ]
  },
  {
   "cell_type": "markdown",
   "id": "cc7a00ee",
   "metadata": {},
   "source": [
    "#### I checked YouTube shorts videos, but not all short format videos have the word \"short\" in the title. Therefore, the 3,783 videos may not represent the exact number of shorts I've watched. Calculating the ratio of short videos by considering all watched videos could lead to bias and inaccurate conclusions.\n",
    "#### This word cloud represents the final visualization of my YouTube watch history over the course of 1.5 years."
   ]
  },
  {
   "cell_type": "code",
   "execution_count": null,
   "id": "e156f531",
   "metadata": {},
   "outputs": [],
   "source": [
    "combined_text = ' '.join(df['title'])\n",
    "\n",
    "wordcloud = WordCloud(width=800, height=400, background_color='white', font_path=font_path).generate(combined_text)\n",
    "\n",
    "plt.figure(figsize=(10, 5))\n",
    "plt.imshow(wordcloud, interpolation='bilinear')\n",
    "plt.axis('off')\n",
    "plt.show()"
   ]
  },
  {
   "cell_type": "markdown",
   "id": "74aae86d",
   "metadata": {},
   "source": [
    "#### delete words that 'short', 'video', 'offical' for both upper & lower case"
   ]
  },
  {
   "cell_type": "code",
   "execution_count": null,
   "id": "13b2b9bf",
   "metadata": {},
   "outputs": [],
   "source": [
    "df2 = df[~(df['title'].str.contains('official') | df['title'].str.contains('short') | df['title'].str.contains('video'))]\n",
    "df2 = df[~(df['title'].str.contains('Official') | df['title'].str.contains('Short') | df['title'].str.contains('Video'))]\n",
    "\n",
    "combined_text2 = ' '.join(df2['title'])\n",
    "\n",
    "wordcloud = WordCloud(width=800, height=400, background_color='white', font_path=font_path).generate(combined_text2)\n",
    "\n",
    "plt.figure(figsize=(10, 5))\n",
    "plt.imshow(wordcloud, interpolation='bilinear')\n",
    "plt.axis('off')\n",
    "plt.show()"
   ]
  },
  {
   "cell_type": "markdown",
   "id": "34ea0f17",
   "metadata": {},
   "source": [
    "# 2. Analyzing time spend on youtube"
   ]
  },
  {
   "cell_type": "code",
   "execution_count": 17,
   "id": "adfab202",
   "metadata": {},
   "outputs": [
    {
     "data": {
      "text/plain": [
       "'2023-07-22T22:08:26.147Z'"
      ]
     },
     "execution_count": 17,
     "metadata": {},
     "output_type": "execute_result"
    }
   ],
   "source": [
    "# Data type of time column is string.\n",
    "df['time'][0]"
   ]
  },
  {
   "cell_type": "code",
   "execution_count": 18,
   "id": "b2bf1b05",
   "metadata": {},
   "outputs": [],
   "source": [
    "# Change time column to datetime format\n",
    "df['time'] = pd.to_datetime(df['time'])"
   ]
  },
  {
   "cell_type": "code",
   "execution_count": 19,
   "id": "bdd45a65",
   "metadata": {},
   "outputs": [],
   "source": [
    "# Create value counts by year, month, day of week, and hour to visualize\n",
    "yearly_counts = df['time'].dt.year.value_counts()\n",
    "monthly_counts = df['time'].dt.month.value_counts()\n",
    "hourly_counts = df['time'].dt.hour.value_counts()\n",
    "\n",
    "# Day of week need to mapping the name of day\n",
    "# Extract the day of the week (Monday=0, Sunday=6) from the datetime column and create a new column 'day_of_week'\n",
    "df['day_of_week'] = df['time'].dt.dayofweek\n",
    "# Map the numeric day of the week to the day name\n",
    "day_names = ['Monday', 'Tuesday', 'Wednesday', 'Thursday', 'Friday', 'Saturday', 'Sunday']\n",
    "df['day_name'] = df['day_of_week'].map(lambda x: day_names[x])\n",
    "\n",
    "# Group the data by 'day_name' and calculate the counts for each day of the week\n",
    "daily_counts = df['day_name'].value_counts()"
   ]
  },
  {
   "cell_type": "code",
   "execution_count": 20,
   "id": "d917806c",
   "metadata": {},
   "outputs": [
    {
     "data": {
      "text/plain": [
       "Thursday     6237\n",
       "Tuesday      5886\n",
       "Monday       5863\n",
       "Saturday     5758\n",
       "Sunday       5449\n",
       "Friday       5422\n",
       "Wednesday    5344\n",
       "Name: day_name, dtype: int64"
      ]
     },
     "execution_count": 20,
     "metadata": {},
     "output_type": "execute_result"
    }
   ],
   "source": [
    "daily_counts"
   ]
  },
  {
   "cell_type": "markdown",
   "id": "e31b2fd6",
   "metadata": {},
   "source": [
    "# Frequency by Year"
   ]
  },
  {
   "cell_type": "code",
   "execution_count": 22,
   "id": "afd297e8",
   "metadata": {
    "scrolled": false
   },
   "outputs": [
    {
     "data": {
      "image/png": "[encoded data removed]",
      "text/plain": [
       "<Figure size 1000x600 with 1 Axes>"
      ]
     },
     "metadata": {},
     "output_type": "display_data"
    }
   ],
   "source": [
    "# Create the histogram by year\n",
    "plt.figure(figsize=(10, 6))\n",
    "plt.bar(yearly_counts.index, yearly_counts.values, color='red', edgecolor='black')\n",
    "# Set the x-axis ticks to display only the integer year values\n",
    "plt.xticks(yearly_counts.index, map(int, yearly_counts.index))\n",
    "plt.xlabel('Year')\n",
    "plt.ylabel('Frequency')\n",
    "plt.title('Frequency by Year')\n",
    "\n",
    "plt.show()"
   ]
  },
  {
   "cell_type": "code",
   "execution_count": 23,
   "id": "f2490196",
   "metadata": {},
   "outputs": [
    {
     "data": {
      "text/plain": [
       "2022    20227\n",
       "2023    19732\n",
       "Name: time, dtype: int64"
      ]
     },
     "execution_count": 23,
     "metadata": {},
     "output_type": "execute_result"
    }
   ],
   "source": [
    "yearly_counts"
   ]
  },
  {
   "cell_type": "markdown",
   "id": "2e70ef88",
   "metadata": {},
   "source": [
    "#### I watched about the same number of videos as last year. However, today is the end of July, so I expect to watch more videos this year. This is not a good sign for me :("
   ]
  },
  {
   "cell_type": "code",
   "execution_count": 24,
   "id": "938d837a",
   "metadata": {},
   "outputs": [
    {
     "data": {
      "text/plain": [
       "55.416438356164385"
      ]
     },
     "execution_count": 24,
     "metadata": {},
     "output_type": "execute_result"
    }
   ],
   "source": [
    "# Last year I watched 55 videos in average.\n",
    "df[df['time'].dt.year==2022].shape[0]/365"
   ]
  },
  {
   "cell_type": "code",
   "execution_count": 25,
   "id": "222ff2b6",
   "metadata": {},
   "outputs": [
    {
     "data": {
      "text/plain": [
       "54.06027397260274"
      ]
     },
     "execution_count": 25,
     "metadata": {},
     "output_type": "execute_result"
    }
   ],
   "source": [
    "# This year so far I watched 54 videos in average.\n",
    "df[df['time'].dt.year==2023].shape[0]/365"
   ]
  },
  {
   "cell_type": "markdown",
   "id": "43ef2f9f",
   "metadata": {},
   "source": [
    "# Frequency by Month"
   ]
  },
  {
   "cell_type": "code",
   "execution_count": 26,
   "id": "37601375",
   "metadata": {
    "scrolled": false
   },
   "outputs": [
    {
     "data": {
      "image/png": "[encoded data removed]",
      "text/plain": [
       "<Figure size 1000x600 with 1 Axes>"
      ]
     },
     "metadata": {},
     "output_type": "display_data"
    }
   ],
   "source": [
    "# Create the histogram by month\n",
    "plt.figure(figsize=(10, 6))\n",
    "plt.bar(monthly_counts.index, monthly_counts.values, color='skyblue', edgecolor='black')\n",
    "# Set the x-axis ticks to display all the integer month values\n",
    "plt.xticks(monthly_counts.index)\n",
    "plt.xlabel('Month')\n",
    "plt.ylabel('Frequency')\n",
    "plt.title('Frequency by Month')\n",
    "plt.show()"
   ]
  },
  {
   "cell_type": "markdown",
   "id": "eb232a85",
   "metadata": {},
   "source": [
    "#### Curious about the monthly frequency distribution for each year."
   ]
  },
  {
   "cell_type": "code",
   "execution_count": 27,
   "id": "ab49ec40",
   "metadata": {},
   "outputs": [
    {
     "data": {
      "image/png": "[encoded data removed]",
      "text/plain": [
       "<Figure size 1200x600 with 2 Axes>"
      ]
     },
     "metadata": {},
     "output_type": "display_data"
    }
   ],
   "source": [
    "df['year'] = df['time'].dt.year\n",
    "df['month'] = df['time'].dt.month\n",
    "\n",
    "year_monthly_counts = df.groupby(['year', 'month']).size()\n",
    "\n",
    "# Reset index to move the 'year' and 'month' from index to columns\n",
    "year_monthly_counts = year_monthly_counts.reset_index(name='count')\n",
    "\n",
    "# Create two separate subplots for 2022 and 2023\n",
    "fig, (ax1, ax2) = plt.subplots(1, 2, figsize=(12, 6), sharey=True)\n",
    "\n",
    "# Filter the data for each year and plot the monthly frequency\n",
    "year_2022_counts = year_monthly_counts[year_monthly_counts['year'] == 2022]\n",
    "ax1.bar(year_2022_counts['month'], year_2022_counts['count'], color='skyblue', edgecolor='black')\n",
    "ax1.set_xlabel('Month')\n",
    "ax1.set_ylabel('Frequency')\n",
    "ax1.set_title('Frequency by Month in 2022')\n",
    "\n",
    "year_2023_counts = year_monthly_counts[year_monthly_counts['year'] == 2023]\n",
    "ax2.bar(year_2023_counts['month'], year_2023_counts['count'], color='skyblue', edgecolor='black')\n",
    "ax2.set_xlabel('Month')\n",
    "ax2.set_title('Frequency by Month in 2023')\n",
    "\n",
    "plt.tight_layout()\n",
    "plt.show()"
   ]
  },
  {
   "cell_type": "markdown",
   "id": "8b10c698",
   "metadata": {},
   "source": [
    "#### I definitely watched more videos in 2023. Understandable, as I quit my job last year."
   ]
  },
  {
   "cell_type": "markdown",
   "id": "f0c9ba96",
   "metadata": {},
   "source": [
    "# Frequency by Day of Week"
   ]
  },
  {
   "cell_type": "code",
   "execution_count": 28,
   "id": "d1e54d74",
   "metadata": {},
   "outputs": [
    {
     "data": {
      "image/png": "[encoded data removed]",
      "text/plain": [
       "<Figure size 1000x600 with 1 Axes>"
      ]
     },
     "metadata": {},
     "output_type": "display_data"
    }
   ],
   "source": [
    "# Create the histogram by day of week using matplotlib\n",
    "plt.figure(figsize=(10, 6))\n",
    "plt.bar(daily_counts.index, daily_counts.values, color='orange', edgecolor='black')\n",
    "plt.xlabel('Day of Week')\n",
    "plt.ylabel('Frequency')\n",
    "plt.title('Frequency by Day of Week')\n",
    "\n",
    "plt.show()"
   ]
  },
  {
   "cell_type": "markdown",
   "id": "254b56da",
   "metadata": {},
   "source": [
    "#### I don't see a significant difference in the day of the week. The most watched day of the week is:\n",
    "1. Thursday\n",
    "2. Tuesday\n",
    "3. Monday"
   ]
  },
  {
   "cell_type": "markdown",
   "id": "ca3114a1",
   "metadata": {},
   "source": [
    "# Frequency by Hour"
   ]
  },
  {
   "cell_type": "code",
   "execution_count": 29,
   "id": "84b1c7be",
   "metadata": {},
   "outputs": [
    {
     "data": {
      "image/png": "[encoded data removed]",
      "text/plain": [
       "<Figure size 1000x600 with 1 Axes>"
      ]
     },
     "metadata": {},
     "output_type": "display_data"
    }
   ],
   "source": [
    "# Create the histogram by month using matplotlib\n",
    "plt.figure(figsize=(10, 6))\n",
    "plt.bar(hourly_counts.index, hourly_counts.values, color='yellow', edgecolor='black')\n",
    "# Set the x-axis ticks to display all the integer hour values\n",
    "plt.xticks(hourly_counts.index)\n",
    "plt.xlabel('Hour')\n",
    "plt.ylabel('Frequency')\n",
    "plt.title('Frequency by Hour')\n",
    "plt.show()"
   ]
  },
  {
   "cell_type": "markdown",
   "id": "57bd640c",
   "metadata": {},
   "source": [
    "## Conclusion: Based on what I mostly watched, videos are related to music. This suggests that I haven't spent too much time watching videos but rather listening to music. After quitting my job, I definitely noticed that I spend more time on YouTube."
   ]
  },
  {
   "cell_type": "code",
   "execution_count": null,
   "id": "21a8fb8a",
   "metadata": {},
   "outputs": [],
   "source": []
  }
 ],
 "metadata": {
  "kernelspec": {
   "display_name": "Python 3 (ipykernel)",
   "language": "python",
   "name": "python3"
  },
  "language_info": {
   "codemirror_mode": {
    "name": "ipython",
    "version": 3
   },
   "file_extension": ".py",
   "mimetype": "text/x-python",
   "name": "python",
   "nbconvert_exporter": "python",
   "pygments_lexer": "ipython3",
   "version": "3.11.4"
  }
 },
 "nbformat": 4,
 "nbformat_minor": 5
}
